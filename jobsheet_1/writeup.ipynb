{
 "cells": [
  {
   "cell_type": "code",
   "execution_count": 152,
   "metadata": {},
   "outputs": [
    {
     "name": "stdout",
     "output_type": "stream",
     "text": [
      "Requirement already satisfied: pandas in c:\\python39\\lib\\site-packages (1.5.2)\n"
     ]
    },
    {
     "name": "stderr",
     "output_type": "stream",
     "text": [
      "WARNING: Ignoring invalid distribution -ip (c:\\python39\\lib\\site-packages)\n",
      "WARNING: Ignoring invalid distribution -ip (c:\\python39\\lib\\site-packages)\n",
      "WARNING: Ignoring invalid distribution -ip (c:\\python39\\lib\\site-packages)\n",
      "WARNING: Ignoring invalid distribution -ip (c:\\python39\\lib\\site-packages)\n",
      "WARNING: Ignoring invalid distribution -ip (c:\\python39\\lib\\site-packages)\n",
      "WARNING: Ignoring invalid distribution -ip (c:\\python39\\lib\\site-packages)\n"
     ]
    },
    {
     "name": "stdout",
     "output_type": "stream",
     "text": [
      "Requirement already satisfied: numpy in c:\\users\\ilzam\\appdata\\roaming\\python\\python39\\site-packages (1.24.1)\n",
      "Requirement already satisfied: pytz>=2020.1 in c:\\python39\\lib\\site-packages (from pandas) (2022.7.1)\n",
      "Requirement already satisfied: python-dateutil>=2.8.1 in c:\\users\\ilzam\\appdata\\roaming\\python\\python39\\site-packages (from pandas) (2.8.1)\n",
      "Requirement already satisfied: six>=1.5 in c:\\users\\ilzam\\appdata\\roaming\\python\\python39\\site-packages (from python-dateutil>=2.8.1->pandas) (1.15.0)\n"
     ]
    }
   ],
   "source": [
    "!pip install pandas numpy"
   ]
  },
  {
   "cell_type": "code",
   "execution_count": 153,
   "metadata": {},
   "outputs": [],
   "source": [
    "import pandas as pd\n",
    "import numpy as np"
   ]
  },
  {
   "cell_type": "code",
   "execution_count": 154,
   "metadata": {},
   "outputs": [
    {
     "data": {
      "text/html": [
       "<div>\n",
       "<style scoped>\n",
       "    .dataframe tbody tr th:only-of-type {\n",
       "        vertical-align: middle;\n",
       "    }\n",
       "\n",
       "    .dataframe tbody tr th {\n",
       "        vertical-align: top;\n",
       "    }\n",
       "\n",
       "    .dataframe thead th {\n",
       "        text-align: right;\n",
       "    }\n",
       "</style>\n",
       "<table border=\"1\" class=\"dataframe\">\n",
       "  <thead>\n",
       "    <tr style=\"text-align: right;\">\n",
       "      <th></th>\n",
       "      <th>name</th>\n",
       "      <th>facility</th>\n",
       "      <th>price</th>\n",
       "      <th>construction_year</th>\n",
       "      <th>distance</th>\n",
       "      <th>security</th>\n",
       "    </tr>\n",
       "  </thead>\n",
       "  <tbody>\n",
       "    <tr>\n",
       "      <th>0</th>\n",
       "      <td>Apartement 1</td>\n",
       "      <td>2</td>\n",
       "      <td>7000000</td>\n",
       "      <td>2012</td>\n",
       "      <td>7</td>\n",
       "      <td>3</td>\n",
       "    </tr>\n",
       "    <tr>\n",
       "      <th>1</th>\n",
       "      <td>Apartement 2</td>\n",
       "      <td>4</td>\n",
       "      <td>10000000</td>\n",
       "      <td>2015</td>\n",
       "      <td>2</td>\n",
       "      <td>3</td>\n",
       "    </tr>\n",
       "    <tr>\n",
       "      <th>2</th>\n",
       "      <td>Apartement 3</td>\n",
       "      <td>3</td>\n",
       "      <td>8500000</td>\n",
       "      <td>2010</td>\n",
       "      <td>4</td>\n",
       "      <td>4</td>\n",
       "    </tr>\n",
       "  </tbody>\n",
       "</table>\n",
       "</div>"
      ],
      "text/plain": [
       "           name  facility     price  construction_year  distance  security\n",
       "0  Apartement 1         2   7000000               2012         7         3\n",
       "1  Apartement 2         4  10000000               2015         2         3\n",
       "2  Apartement 3         3   8500000               2010         4         4"
      ]
     },
     "execution_count": 154,
     "metadata": {},
     "output_type": "execute_result"
    }
   ],
   "source": [
    "df = pd.read_csv('data.csv')\n",
    "df.head()"
   ]
  },
  {
   "cell_type": "code",
   "execution_count": 155,
   "metadata": {},
   "outputs": [],
   "source": [
    "# c1: Fasilitas pendukung di apartemen (bobot: 30)\n",
    "# c2: Harga bangunan per meter persegi (bobot: 20)\n",
    "# c3: Tahun konstruksi bangunan apartemen (bobot: 20)\n",
    "# c4: Jarak dari tempat kerja (dalam kilometer) (bobot: 20)\n",
    "# c5: Sistem keamanan apartemen (bobot: 10) \n",
    "\n",
    "# Convert from raw 'price' to match the criteria\n",
    "\n",
    "# Define a custom function to apply the criteria\n",
    "def transform_price(price):\n",
    "    if price >= 10000000:\n",
    "        return 1\n",
    "    elif 5000000 <= price < 10000000:\n",
    "        return 2\n",
    "    elif 1000000 <= price < 5000000:\n",
    "        return 3\n",
    "    else:\n",
    "        return None  # Handle cases where price doesn't match any criteria"
   ]
  },
  {
   "cell_type": "code",
   "execution_count": 156,
   "metadata": {},
   "outputs": [
    {
     "data": {
      "text/html": [
       "<div>\n",
       "<style scoped>\n",
       "    .dataframe tbody tr th:only-of-type {\n",
       "        vertical-align: middle;\n",
       "    }\n",
       "\n",
       "    .dataframe tbody tr th {\n",
       "        vertical-align: top;\n",
       "    }\n",
       "\n",
       "    .dataframe thead th {\n",
       "        text-align: right;\n",
       "    }\n",
       "</style>\n",
       "<table border=\"1\" class=\"dataframe\">\n",
       "  <thead>\n",
       "    <tr style=\"text-align: right;\">\n",
       "      <th></th>\n",
       "      <th>name</th>\n",
       "      <th>facility</th>\n",
       "      <th>price</th>\n",
       "      <th>construction_year</th>\n",
       "      <th>distance</th>\n",
       "      <th>security</th>\n",
       "    </tr>\n",
       "  </thead>\n",
       "  <tbody>\n",
       "    <tr>\n",
       "      <th>0</th>\n",
       "      <td>Apartement 1</td>\n",
       "      <td>2</td>\n",
       "      <td>2</td>\n",
       "      <td>2012</td>\n",
       "      <td>7</td>\n",
       "      <td>3</td>\n",
       "    </tr>\n",
       "    <tr>\n",
       "      <th>1</th>\n",
       "      <td>Apartement 2</td>\n",
       "      <td>4</td>\n",
       "      <td>1</td>\n",
       "      <td>2015</td>\n",
       "      <td>2</td>\n",
       "      <td>3</td>\n",
       "    </tr>\n",
       "    <tr>\n",
       "      <th>2</th>\n",
       "      <td>Apartement 3</td>\n",
       "      <td>3</td>\n",
       "      <td>2</td>\n",
       "      <td>2010</td>\n",
       "      <td>4</td>\n",
       "      <td>4</td>\n",
       "    </tr>\n",
       "  </tbody>\n",
       "</table>\n",
       "</div>"
      ],
      "text/plain": [
       "           name  facility  price  construction_year  distance  security\n",
       "0  Apartement 1         2      2               2012         7         3\n",
       "1  Apartement 2         4      1               2015         2         3\n",
       "2  Apartement 3         3      2               2010         4         4"
      ]
     },
     "execution_count": 156,
     "metadata": {},
     "output_type": "execute_result"
    }
   ],
   "source": [
    "df['price'] = df['price'].apply(transform_price)\n",
    "df.head()"
   ]
  },
  {
   "cell_type": "code",
   "execution_count": 157,
   "metadata": {},
   "outputs": [],
   "source": [
    "def transform_year(year):\n",
    "    if year >= 2015:\n",
    "        return 3\n",
    "    elif 2010 <= year < 2015:\n",
    "        return 2\n",
    "    elif 2005 <= year < 2010:\n",
    "        return 1\n",
    "    else:\n",
    "        return None  # Handle cases where year doesn't match any criteria"
   ]
  },
  {
   "cell_type": "code",
   "execution_count": 158,
   "metadata": {},
   "outputs": [
    {
     "data": {
      "text/html": [
       "<div>\n",
       "<style scoped>\n",
       "    .dataframe tbody tr th:only-of-type {\n",
       "        vertical-align: middle;\n",
       "    }\n",
       "\n",
       "    .dataframe tbody tr th {\n",
       "        vertical-align: top;\n",
       "    }\n",
       "\n",
       "    .dataframe thead th {\n",
       "        text-align: right;\n",
       "    }\n",
       "</style>\n",
       "<table border=\"1\" class=\"dataframe\">\n",
       "  <thead>\n",
       "    <tr style=\"text-align: right;\">\n",
       "      <th></th>\n",
       "      <th>name</th>\n",
       "      <th>facility</th>\n",
       "      <th>price</th>\n",
       "      <th>construction_year</th>\n",
       "      <th>distance</th>\n",
       "      <th>security</th>\n",
       "    </tr>\n",
       "  </thead>\n",
       "  <tbody>\n",
       "    <tr>\n",
       "      <th>0</th>\n",
       "      <td>Apartement 1</td>\n",
       "      <td>2</td>\n",
       "      <td>2</td>\n",
       "      <td>2</td>\n",
       "      <td>7</td>\n",
       "      <td>3</td>\n",
       "    </tr>\n",
       "    <tr>\n",
       "      <th>1</th>\n",
       "      <td>Apartement 2</td>\n",
       "      <td>4</td>\n",
       "      <td>1</td>\n",
       "      <td>3</td>\n",
       "      <td>2</td>\n",
       "      <td>3</td>\n",
       "    </tr>\n",
       "    <tr>\n",
       "      <th>2</th>\n",
       "      <td>Apartement 3</td>\n",
       "      <td>3</td>\n",
       "      <td>2</td>\n",
       "      <td>2</td>\n",
       "      <td>4</td>\n",
       "      <td>4</td>\n",
       "    </tr>\n",
       "  </tbody>\n",
       "</table>\n",
       "</div>"
      ],
      "text/plain": [
       "           name  facility  price  construction_year  distance  security\n",
       "0  Apartement 1         2      2                  2         7         3\n",
       "1  Apartement 2         4      1                  3         2         3\n",
       "2  Apartement 3         3      2                  2         4         4"
      ]
     },
     "execution_count": 158,
     "metadata": {},
     "output_type": "execute_result"
    }
   ],
   "source": [
    "df['construction_year'] = df['construction_year'].apply(transform_year)\n",
    "df.head()"
   ]
  },
  {
   "cell_type": "code",
   "execution_count": 159,
   "metadata": {},
   "outputs": [],
   "source": [
    "def normalize_benefit(value, max):\n",
    "    return value / max\n",
    "\n",
    "def normalize_cost(value, min):\n",
    "    return min / value"
   ]
  },
  {
   "cell_type": "code",
   "execution_count": 160,
   "metadata": {},
   "outputs": [
    {
     "data": {
      "text/plain": [
       "[4, 1, 3, 2, 4]"
      ]
     },
     "execution_count": 160,
     "metadata": {},
     "output_type": "execute_result"
    }
   ],
   "source": [
    "max_facility = df['facility'].max()\n",
    "min_price = df['price'].min()\n",
    "max_construction_year = df['construction_year'].max()\n",
    "min_distance = df['distance'].min()\n",
    "max_security = df['security'].max()\n",
    "\n",
    "[max_facility, min_price, max_construction_year, min_distance, max_security]"
   ]
  },
  {
   "cell_type": "code",
   "execution_count": 161,
   "metadata": {},
   "outputs": [
    {
     "data": {
      "text/html": [
       "<div>\n",
       "<style scoped>\n",
       "    .dataframe tbody tr th:only-of-type {\n",
       "        vertical-align: middle;\n",
       "    }\n",
       "\n",
       "    .dataframe tbody tr th {\n",
       "        vertical-align: top;\n",
       "    }\n",
       "\n",
       "    .dataframe thead th {\n",
       "        text-align: right;\n",
       "    }\n",
       "</style>\n",
       "<table border=\"1\" class=\"dataframe\">\n",
       "  <thead>\n",
       "    <tr style=\"text-align: right;\">\n",
       "      <th></th>\n",
       "      <th>name</th>\n",
       "      <th>facility</th>\n",
       "      <th>price</th>\n",
       "      <th>construction_year</th>\n",
       "      <th>distance</th>\n",
       "      <th>security</th>\n",
       "    </tr>\n",
       "  </thead>\n",
       "  <tbody>\n",
       "    <tr>\n",
       "      <th>0</th>\n",
       "      <td>Apartement 1</td>\n",
       "      <td>0.50</td>\n",
       "      <td>0.5</td>\n",
       "      <td>0.666667</td>\n",
       "      <td>0.285714</td>\n",
       "      <td>0.75</td>\n",
       "    </tr>\n",
       "    <tr>\n",
       "      <th>1</th>\n",
       "      <td>Apartement 2</td>\n",
       "      <td>1.00</td>\n",
       "      <td>1.0</td>\n",
       "      <td>1.000000</td>\n",
       "      <td>1.000000</td>\n",
       "      <td>0.75</td>\n",
       "    </tr>\n",
       "    <tr>\n",
       "      <th>2</th>\n",
       "      <td>Apartement 3</td>\n",
       "      <td>0.75</td>\n",
       "      <td>0.5</td>\n",
       "      <td>0.666667</td>\n",
       "      <td>0.500000</td>\n",
       "      <td>1.00</td>\n",
       "    </tr>\n",
       "  </tbody>\n",
       "</table>\n",
       "</div>"
      ],
      "text/plain": [
       "           name  facility  price  construction_year  distance  security\n",
       "0  Apartement 1      0.50    0.5           0.666667  0.285714      0.75\n",
       "1  Apartement 2      1.00    1.0           1.000000  1.000000      0.75\n",
       "2  Apartement 3      0.75    0.5           0.666667  0.500000      1.00"
      ]
     },
     "execution_count": 161,
     "metadata": {},
     "output_type": "execute_result"
    }
   ],
   "source": [
    "# normalize\n",
    "\n",
    "# mark, distance and price as cost\n",
    "# and the rest is benefit\n",
    "\n",
    "df['facility'] = df.apply(lambda x: normalize_benefit(x['facility'], float(max_facility)),axis=1)\n",
    "df['price'] = df.apply(lambda x: normalize_cost(x['price'], float(min_price)),axis=1)\n",
    "df['construction_year'] = df.apply(lambda x: normalize_benefit(x['construction_year'], float(max_construction_year)),axis=1)\n",
    "df['distance'] = df.apply(lambda x: normalize_cost(x['distance'], float(min_distance)),axis=1)\n",
    "df['security'] = df.apply(lambda x: normalize_benefit(x['security'], float(max_security)),axis=1)\n",
    "\n",
    "df.head()"
   ]
  },
  {
   "cell_type": "code",
   "execution_count": 162,
   "metadata": {},
   "outputs": [],
   "source": [
    "# weight\n",
    "\n",
    "weight = {\n",
    "    'facility': 0.3,\n",
    "    'price': 0.2,\n",
    "    'construction_year': 0.2,\n",
    "    'distance': 0.2,\n",
    "    'security': 0.1\n",
    "}"
   ]
  },
  {
   "cell_type": "code",
   "execution_count": 163,
   "metadata": {},
   "outputs": [],
   "source": [
    "def apply_weight_wsm(dataframe, weight_dict):\n",
    "    for column, weight in weight_dict.items():\n",
    "        if column in dataframe.columns:\n",
    "            dataframe[column] *= weight\n",
    "    return dataframe"
   ]
  },
  {
   "cell_type": "code",
   "execution_count": 164,
   "metadata": {},
   "outputs": [
    {
     "data": {
      "text/html": [
       "<div>\n",
       "<style scoped>\n",
       "    .dataframe tbody tr th:only-of-type {\n",
       "        vertical-align: middle;\n",
       "    }\n",
       "\n",
       "    .dataframe tbody tr th {\n",
       "        vertical-align: top;\n",
       "    }\n",
       "\n",
       "    .dataframe thead th {\n",
       "        text-align: right;\n",
       "    }\n",
       "</style>\n",
       "<table border=\"1\" class=\"dataframe\">\n",
       "  <thead>\n",
       "    <tr style=\"text-align: right;\">\n",
       "      <th></th>\n",
       "      <th>name</th>\n",
       "      <th>facility</th>\n",
       "      <th>price</th>\n",
       "      <th>construction_year</th>\n",
       "      <th>distance</th>\n",
       "      <th>security</th>\n",
       "    </tr>\n",
       "  </thead>\n",
       "  <tbody>\n",
       "    <tr>\n",
       "      <th>0</th>\n",
       "      <td>Apartement 1</td>\n",
       "      <td>0.150</td>\n",
       "      <td>0.1</td>\n",
       "      <td>0.133333</td>\n",
       "      <td>0.057143</td>\n",
       "      <td>0.075</td>\n",
       "    </tr>\n",
       "    <tr>\n",
       "      <th>1</th>\n",
       "      <td>Apartement 2</td>\n",
       "      <td>0.300</td>\n",
       "      <td>0.2</td>\n",
       "      <td>0.200000</td>\n",
       "      <td>0.200000</td>\n",
       "      <td>0.075</td>\n",
       "    </tr>\n",
       "    <tr>\n",
       "      <th>2</th>\n",
       "      <td>Apartement 3</td>\n",
       "      <td>0.225</td>\n",
       "      <td>0.1</td>\n",
       "      <td>0.133333</td>\n",
       "      <td>0.100000</td>\n",
       "      <td>0.100</td>\n",
       "    </tr>\n",
       "  </tbody>\n",
       "</table>\n",
       "</div>"
      ],
      "text/plain": [
       "           name  facility  price  construction_year  distance  security\n",
       "0  Apartement 1     0.150    0.1           0.133333  0.057143     0.075\n",
       "1  Apartement 2     0.300    0.2           0.200000  0.200000     0.075\n",
       "2  Apartement 3     0.225    0.1           0.133333  0.100000     0.100"
      ]
     },
     "execution_count": 164,
     "metadata": {},
     "output_type": "execute_result"
    }
   ],
   "source": [
    "df = apply_weight_wsm(df.copy(), weight)\n",
    "\n",
    "df_copy = df.copy()\n",
    "\n",
    "df.head()"
   ]
  },
  {
   "cell_type": "code",
   "execution_count": 165,
   "metadata": {},
   "outputs": [
    {
     "data": {
      "text/html": [
       "<div>\n",
       "<style scoped>\n",
       "    .dataframe tbody tr th:only-of-type {\n",
       "        vertical-align: middle;\n",
       "    }\n",
       "\n",
       "    .dataframe tbody tr th {\n",
       "        vertical-align: top;\n",
       "    }\n",
       "\n",
       "    .dataframe thead th {\n",
       "        text-align: right;\n",
       "    }\n",
       "</style>\n",
       "<table border=\"1\" class=\"dataframe\">\n",
       "  <thead>\n",
       "    <tr style=\"text-align: right;\">\n",
       "      <th></th>\n",
       "      <th>name</th>\n",
       "      <th>facility</th>\n",
       "      <th>price</th>\n",
       "      <th>construction_year</th>\n",
       "      <th>distance</th>\n",
       "      <th>security</th>\n",
       "      <th>wsm_score</th>\n",
       "    </tr>\n",
       "  </thead>\n",
       "  <tbody>\n",
       "    <tr>\n",
       "      <th>0</th>\n",
       "      <td>Apartement 1</td>\n",
       "      <td>0.150</td>\n",
       "      <td>0.1</td>\n",
       "      <td>0.133333</td>\n",
       "      <td>0.057143</td>\n",
       "      <td>0.075</td>\n",
       "      <td>0.515476</td>\n",
       "    </tr>\n",
       "    <tr>\n",
       "      <th>1</th>\n",
       "      <td>Apartement 2</td>\n",
       "      <td>0.300</td>\n",
       "      <td>0.2</td>\n",
       "      <td>0.200000</td>\n",
       "      <td>0.200000</td>\n",
       "      <td>0.075</td>\n",
       "      <td>0.975000</td>\n",
       "    </tr>\n",
       "    <tr>\n",
       "      <th>2</th>\n",
       "      <td>Apartement 3</td>\n",
       "      <td>0.225</td>\n",
       "      <td>0.1</td>\n",
       "      <td>0.133333</td>\n",
       "      <td>0.100000</td>\n",
       "      <td>0.100</td>\n",
       "      <td>0.658333</td>\n",
       "    </tr>\n",
       "  </tbody>\n",
       "</table>\n",
       "</div>"
      ],
      "text/plain": [
       "           name  facility  price  construction_year  distance  security  \\\n",
       "0  Apartement 1     0.150    0.1           0.133333  0.057143     0.075   \n",
       "1  Apartement 2     0.300    0.2           0.200000  0.200000     0.075   \n",
       "2  Apartement 3     0.225    0.1           0.133333  0.100000     0.100   \n",
       "\n",
       "   wsm_score  \n",
       "0   0.515476  \n",
       "1   0.975000  \n",
       "2   0.658333  "
      ]
     },
     "execution_count": 165,
     "metadata": {},
     "output_type": "execute_result"
    }
   ],
   "source": [
    "df['wsm_score'] = df[['facility', 'price', 'construction_year', 'distance', 'security']].sum(axis=1)\n",
    "df.head()"
   ]
  },
  {
   "cell_type": "code",
   "execution_count": 166,
   "metadata": {},
   "outputs": [
    {
     "data": {
      "text/html": [
       "<div>\n",
       "<style scoped>\n",
       "    .dataframe tbody tr th:only-of-type {\n",
       "        vertical-align: middle;\n",
       "    }\n",
       "\n",
       "    .dataframe tbody tr th {\n",
       "        vertical-align: top;\n",
       "    }\n",
       "\n",
       "    .dataframe thead th {\n",
       "        text-align: right;\n",
       "    }\n",
       "</style>\n",
       "<table border=\"1\" class=\"dataframe\">\n",
       "  <thead>\n",
       "    <tr style=\"text-align: right;\">\n",
       "      <th></th>\n",
       "      <th>name</th>\n",
       "      <th>facility</th>\n",
       "      <th>price</th>\n",
       "      <th>construction_year</th>\n",
       "      <th>distance</th>\n",
       "      <th>security</th>\n",
       "      <th>wsm_score</th>\n",
       "    </tr>\n",
       "  </thead>\n",
       "  <tbody>\n",
       "    <tr>\n",
       "      <th>1</th>\n",
       "      <td>Apartement 2</td>\n",
       "      <td>0.300</td>\n",
       "      <td>0.2</td>\n",
       "      <td>0.200000</td>\n",
       "      <td>0.200000</td>\n",
       "      <td>0.075</td>\n",
       "      <td>0.975000</td>\n",
       "    </tr>\n",
       "    <tr>\n",
       "      <th>2</th>\n",
       "      <td>Apartement 3</td>\n",
       "      <td>0.225</td>\n",
       "      <td>0.1</td>\n",
       "      <td>0.133333</td>\n",
       "      <td>0.100000</td>\n",
       "      <td>0.100</td>\n",
       "      <td>0.658333</td>\n",
       "    </tr>\n",
       "    <tr>\n",
       "      <th>0</th>\n",
       "      <td>Apartement 1</td>\n",
       "      <td>0.150</td>\n",
       "      <td>0.1</td>\n",
       "      <td>0.133333</td>\n",
       "      <td>0.057143</td>\n",
       "      <td>0.075</td>\n",
       "      <td>0.515476</td>\n",
       "    </tr>\n",
       "  </tbody>\n",
       "</table>\n",
       "</div>"
      ],
      "text/plain": [
       "           name  facility  price  construction_year  distance  security  \\\n",
       "1  Apartement 2     0.300    0.2           0.200000  0.200000     0.075   \n",
       "2  Apartement 3     0.225    0.1           0.133333  0.100000     0.100   \n",
       "0  Apartement 1     0.150    0.1           0.133333  0.057143     0.075   \n",
       "\n",
       "   wsm_score  \n",
       "1   0.975000  \n",
       "2   0.658333  \n",
       "0   0.515476  "
      ]
     },
     "execution_count": 166,
     "metadata": {},
     "output_type": "execute_result"
    }
   ],
   "source": [
    "# Answer -> WSM Result\n",
    "df = df.sort_values(by='wsm_score', ascending=False)\n",
    "df.head()\n"
   ]
  },
  {
   "cell_type": "code",
   "execution_count": 167,
   "metadata": {},
   "outputs": [],
   "source": [
    "def calculate_wpm_score(row):\n",
    "    normalized_values = row[1:]  # Exclude the 'name' column\n",
    "    wpm_scores = [value ** weight for value, weight in zip(normalized_values, weight.values())]\n",
    "    return pd.Series(wpm_scores)"
   ]
  },
  {
   "cell_type": "code",
   "execution_count": 168,
   "metadata": {},
   "outputs": [
    {
     "data": {
      "text/html": [
       "<div>\n",
       "<style scoped>\n",
       "    .dataframe tbody tr th:only-of-type {\n",
       "        vertical-align: middle;\n",
       "    }\n",
       "\n",
       "    .dataframe tbody tr th {\n",
       "        vertical-align: top;\n",
       "    }\n",
       "\n",
       "    .dataframe thead th {\n",
       "        text-align: right;\n",
       "    }\n",
       "</style>\n",
       "<table border=\"1\" class=\"dataframe\">\n",
       "  <thead>\n",
       "    <tr style=\"text-align: right;\">\n",
       "      <th></th>\n",
       "      <th>name</th>\n",
       "      <th>facility</th>\n",
       "      <th>price</th>\n",
       "      <th>construction_year</th>\n",
       "      <th>distance</th>\n",
       "      <th>security</th>\n",
       "      <th>wsm_score</th>\n",
       "      <th>wpm_score</th>\n",
       "    </tr>\n",
       "  </thead>\n",
       "  <tbody>\n",
       "    <tr>\n",
       "      <th>1</th>\n",
       "      <td>Apartement 2</td>\n",
       "      <td>0.300</td>\n",
       "      <td>0.2</td>\n",
       "      <td>0.200000</td>\n",
       "      <td>0.200000</td>\n",
       "      <td>0.075</td>\n",
       "      <td>0.975000</td>\n",
       "      <td>0.204767</td>\n",
       "    </tr>\n",
       "    <tr>\n",
       "      <th>2</th>\n",
       "      <td>Apartement 3</td>\n",
       "      <td>0.225</td>\n",
       "      <td>0.1</td>\n",
       "      <td>0.133333</td>\n",
       "      <td>0.100000</td>\n",
       "      <td>0.100</td>\n",
       "      <td>0.658333</td>\n",
       "      <td>0.135096</td>\n",
       "    </tr>\n",
       "    <tr>\n",
       "      <th>0</th>\n",
       "      <td>Apartement 1</td>\n",
       "      <td>0.150</td>\n",
       "      <td>0.1</td>\n",
       "      <td>0.133333</td>\n",
       "      <td>0.057143</td>\n",
       "      <td>0.075</td>\n",
       "      <td>0.515476</td>\n",
       "      <td>0.103923</td>\n",
       "    </tr>\n",
       "  </tbody>\n",
       "</table>\n",
       "</div>"
      ],
      "text/plain": [
       "           name  facility  price  construction_year  distance  security  \\\n",
       "1  Apartement 2     0.300    0.2           0.200000  0.200000     0.075   \n",
       "2  Apartement 3     0.225    0.1           0.133333  0.100000     0.100   \n",
       "0  Apartement 1     0.150    0.1           0.133333  0.057143     0.075   \n",
       "\n",
       "   wsm_score  wpm_score  \n",
       "1   0.975000   0.204767  \n",
       "2   0.658333   0.135096  \n",
       "0   0.515476   0.103923  "
      ]
     },
     "execution_count": 168,
     "metadata": {},
     "output_type": "execute_result"
    }
   ],
   "source": [
    "# Answer -> WPM Result\n",
    "\n",
    "wpm_scores_df = df.apply(calculate_wpm_score, axis=1)\n",
    "\n",
    "# Calculate the product of WPM scores for each alternative\n",
    "df['wpm_score'] = wpm_scores_df.prod(axis=1)\n",
    "df = df.sort_values(by='wpm_score', ascending=False)\n",
    "df.head()"
   ]
  }
 ],
 "metadata": {
  "kernelspec": {
   "display_name": "Python 3",
   "language": "python",
   "name": "python3"
  },
  "language_info": {
   "codemirror_mode": {
    "name": "ipython",
    "version": 3
   },
   "file_extension": ".py",
   "mimetype": "text/x-python",
   "name": "python",
   "nbconvert_exporter": "python",
   "pygments_lexer": "ipython3",
   "version": "3.9.13"
  },
  "orig_nbformat": 4
 },
 "nbformat": 4,
 "nbformat_minor": 2
}
